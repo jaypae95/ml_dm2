{
 "cells": [
  {
   "cell_type": "code",
   "execution_count": 1,
   "metadata": {},
   "outputs": [],
   "source": [
    "import numpy as np\n",
    "import nn.layers as layers\n",
    "import nn.net as net\n",
    "from utils import *"
   ]
  },
  {
   "cell_type": "markdown",
   "metadata": {},
   "source": [
    "# Convolution layer\n",
    "`nn/layers.py` 파일 내부에 있는 `Conv2d` 클래스의 `forward`와 `backward` 메소드를 주석에 명시된 요구 조건에 따라 작성하고, 아래 코드를 실행시켜 구현한 코드를 테스트한다.<br>\n",
    "**NOTE**: 모든 테스트 결과는 *1e-06* 이하의 오차만 허용된다."
   ]
  },
  {
   "cell_type": "code",
   "execution_count": 2,
   "metadata": {
    "scrolled": true
   },
   "outputs": [
    {
     "name": "stdout",
     "output_type": "stream",
     "text": [
      "Testing conv2d - forward function:\n",
      "error: 2.2121476417505994e-08\n"
     ]
    }
   ],
   "source": [
    "# Test the Conv2d.forward()\n",
    "x_shape = (2, 3, 4, 4)\n",
    "w_shape = (3, 3, 4, 4)\n",
    "x = np.linspace(-0.1, 0.5, num=np.prod(x_shape)).reshape(x_shape)\n",
    "\n",
    "conv = layers.Conv2d(3, 3, 4, 2, 1)\n",
    "conv.params[\"w\"] = np.linspace(-0.2, 0.3, num=np.prod(w_shape)).reshape(w_shape)\n",
    "conv.params[\"b\"] = np.linspace(-0.1, 0.2, num=3)\n",
    "\n",
    "out = conv.forward(x)\n",
    "correct_out = np.array([[[[[-0.08759809, -0.10987781],\n",
    "                           [-0.18387192, -0.2109216 ]],\n",
    "                          [[ 0.21027089,  0.21661097],\n",
    "                           [ 0.22847626,  0.23004637]],\n",
    "                          [[ 0.50813986,  0.54309974],\n",
    "                           [ 0.64082444,  0.67101435]]],\n",
    "                         [[[-0.98053589, -1.03143541],\n",
    "                           [-1.19128892, -1.24695841]],\n",
    "                          [[ 0.69108355,  0.66880383],\n",
    "                           [ 0.59480972,  0.56776003]],\n",
    "                          [[ 2.36270298,  2.36904306],\n",
    "                           [ 2.38090835,  2.38247847]]]]])\n",
    "\n",
    "print(\"Testing conv2d - forward function:\")\n",
    "print(\"error:\", rel_error(out, correct_out))"
   ]
  },
  {
   "cell_type": "code",
   "execution_count": 3,
   "metadata": {},
   "outputs": [
    {
     "name": "stdout",
     "output_type": "stream",
     "text": [
      "Testing conv2d - backward function:\n",
      "dx error: 6.049059660183733e-09\n",
      "dw error: 3.9767637300198113e-13\n",
      "db error: 3.822277302093244e-14\n"
     ]
    }
   ],
   "source": [
    "# Test the Conv2d.backward()\n",
    "x = np.random.randn(4, 3, 5, 5)\n",
    "conv = layers.Conv2d(3, 2, 3, 1, 1, init_mode=\"normal\")\n",
    "\n",
    "dout = np.random.randn(4, 2, 5, 5)\n",
    "\n",
    "dx_num = eval_numerical_gradient_array(lambda x: conv.forward(x), x, dout)\n",
    "dw_num = eval_numerical_gradient_array(lambda w: conv.forward(x), conv.params[\"w\"], dout)\n",
    "db_num = eval_numerical_gradient_array(lambda b: conv.forward(x), conv.params[\"b\"], dout)\n",
    "\n",
    "out = conv.forward(x)\n",
    "conv.backward(dout)\n",
    "\n",
    "print(\"Testing conv2d - backward function:\")\n",
    "print(\"dx error:\", rel_error(conv.grads[\"x\"], dx_num))\n",
    "print(\"dw error:\", rel_error(conv.grads[\"w\"], dw_num))\n",
    "print(\"db error:\", rel_error(conv.grads[\"b\"], db_num))"
   ]
  },
  {
   "cell_type": "markdown",
   "metadata": {},
   "source": [
    "# Max pooling layer\n",
    "`nn/layers.py` 파일 내부에 있는 `Maxpool2d` 클래스의 `forward`와 `backward` 메소드를 주석에 명시된 요구 조건에 따라 작성하고, 아래 코드를 실행시켜 구현한 코드를 테스트한다.<br>\n",
    "**NOTE**: 모든 테스트 결과는 *1e-06* 이하의 오차만 허용된다."
   ]
  },
  {
   "cell_type": "code",
   "execution_count": 4,
   "metadata": {
    "scrolled": false
   },
   "outputs": [
    {
     "name": "stdout",
     "output_type": "stream",
     "text": [
      "Testing maxpool2d - forward function:\n",
      "error: 4.1666665157267834e-08\n"
     ]
    }
   ],
   "source": [
    "# Test the MaxPool2d.forward()\n",
    "x_shape = (2, 3, 4, 4)\n",
    "x = np.linspace(-0.3, 0.4, num=np.prod(x_shape)).reshape(x_shape)\n",
    "pool = layers.MaxPool2d(2, 2)\n",
    "out = pool.forward(x)\n",
    "correct_out = np.array([[[[-0.26315789, -0.24842105],\n",
    "                          [-0.20421053, -0.18947368]],\n",
    "                         [[-0.14526316, -0.13052632],\n",
    "                          [-0.08631579, -0.07157895]],\n",
    "                         [[-0.02736842, -0.01263158],\n",
    "                          [ 0.03157895,  0.04631579]]],\n",
    "                        [[[ 0.09052632,  0.10526316],\n",
    "                          [ 0.14947368,  0.16421053]],\n",
    "                         [[ 0.20842105,  0.22315789],\n",
    "                          [ 0.26736842,  0.28210526]],\n",
    "                         [[ 0.32631579,  0.34105263],\n",
    "                          [ 0.38526316,  0.4       ]]]])\n",
    "\n",
    "print(\"Testing maxpool2d - forward function:\")\n",
    "print(\"error:\", rel_error(out, correct_out))"
   ]
  },
  {
   "cell_type": "code",
   "execution_count": 5,
   "metadata": {},
   "outputs": [
    {
     "name": "stdout",
     "output_type": "stream",
     "text": [
      "Testing maxpool2d - backward function:\n",
      "dx error: 3.2756204513108846e-12\n"
     ]
    }
   ],
   "source": [
    "# Test the MaxPool2d.backward()\n",
    "x = np.random.randn(3, 2, 8, 8)\n",
    "dout = np.random.randn(3, 2, 4, 4)\n",
    "pool = layers.MaxPool2d(2, 2)\n",
    "\n",
    "dx_num = eval_numerical_gradient_array(lambda x: pool.forward(x), x, dout)\n",
    "pool.forward(x)\n",
    "pool.backward(dout)\n",
    "\n",
    "print(\"Testing maxpool2d - backward function:\")\n",
    "print(\"dx error:\", rel_error(pool.grads[\"x\"], dx_num))"
   ]
  },
  {
   "cell_type": "markdown",
   "metadata": {},
   "source": [
    "# Three-layer ConvNet\n",
    "Convolution, pooling, FC 레이어를 종합하여 3-레이어 ConvNet을 구현한다. `nn/net.py`의 `FourlayerConvNet`를 작성한다.<br>\n",
    "이 때, 네트워크의 구조는 아래와 같다.\n",
    "\n",
    "- 3x3 conv - relu - 2x2 pool - fc - relu - fc - softmax\n",
    "\n",
    "**NOTE**: Naive한 (loop 중첩) 방식의 구현은 매우 속도가 느려 NN 모델과 달리 학습하기가 어렵다. 따라서 본 과제에서는 구현한 convolution과 pooling 레이어의 결과 검증만 수행한다. 아래의 테스트 실행도 컴퓨팅 환경에 따라 최대 수 분이 소요될 수 있다."
   ]
  },
  {
   "cell_type": "code",
   "execution_count": null,
   "metadata": {
    "scrolled": false
   },
   "outputs": [
    {
     "name": "stdout",
     "output_type": "stream",
     "text": [
      "Testing ThreeLayerConvNet:\n",
      "loss: 2.300018772605875  (must be around 2.3)\n",
      "[[[[ 0.00000000e+00  0.00000000e+00  0.00000000e+00]\n",
      "   [-9.00148774e-05 -1.89641294e-04 -5.32148493e-05]\n",
      "   [-1.09419828e-04 -7.24898858e-04  2.87544411e-04]]\n",
      "\n",
      "  [[ 0.00000000e+00  0.00000000e+00  0.00000000e+00]\n",
      "   [-2.40502123e-04  1.00926051e-03 -4.51417535e-04]\n",
      "   [-1.65942780e-04 -2.44452301e-04 -3.12542559e-04]]\n",
      "\n",
      "  [[ 0.00000000e+00  0.00000000e+00  0.00000000e+00]\n",
      "   [-3.53880213e-04  5.29826881e-04 -3.57875919e-04]\n",
      "   [ 4.20472607e-04  9.34960313e-05  3.80719226e-04]]]\n",
      "\n",
      "\n",
      " [[[ 0.00000000e+00  0.00000000e+00  0.00000000e+00]\n",
      "   [-6.58317760e-05 -1.38692887e-04 -3.89183226e-05]\n",
      "   [-8.00234565e-05 -5.30149911e-04  2.10293674e-04]]\n",
      "\n",
      "  [[ 0.00000000e+00  0.00000000e+00  0.00000000e+00]\n",
      "   [-1.75889612e-04  7.38115897e-04 -3.30141183e-04]\n",
      "   [-1.21361137e-04 -1.78778548e-04 -2.28575901e-04]]\n",
      "\n",
      "  [[ 0.00000000e+00  0.00000000e+00  0.00000000e+00]\n",
      "   [-2.58807917e-04  3.87485331e-04 -2.61730150e-04]\n",
      "   [ 3.07509817e-04  6.83776946e-05  2.78436449e-04]]]\n",
      "\n",
      "\n",
      " [[[ 0.00000000e+00  0.00000000e+00  0.00000000e+00]\n",
      "   [-4.16486746e-05 -8.77444794e-05 -2.46217960e-05]\n",
      "   [-5.06270847e-05 -3.35400964e-04  1.33042937e-04]]\n",
      "\n",
      "  [[ 0.00000000e+00  0.00000000e+00  0.00000000e+00]\n",
      "   [-1.11277102e-04  4.66971282e-04 -2.08864830e-04]\n",
      "   [-7.67794951e-05 -1.13104796e-04 -1.44609244e-04]]\n",
      "\n",
      "  [[ 0.00000000e+00  0.00000000e+00  0.00000000e+00]\n",
      "   [-1.63735621e-04  2.45143781e-04 -1.65584380e-04]\n",
      "   [ 1.94547027e-04  4.32593578e-05  1.76153672e-04]]]\n",
      "\n",
      "\n",
      " [[[-1.63313177e-06 -1.08193859e-05  4.29170763e-06]\n",
      "   [-1.05026642e-05 -3.02441182e-05 -1.61215677e-05]\n",
      "   [-2.28107579e-05 -1.38602633e-04  5.32322057e-05]]\n",
      "\n",
      "  [[-2.47675791e-06 -3.64854181e-06 -4.66481431e-06]\n",
      "   [-4.76049143e-05  2.00638671e-04 -9.03724555e-05]\n",
      "   [-4.68948771e-05 -5.16123868e-05 -5.88563538e-05]]\n",
      "\n",
      "  [[ 6.27571056e-06  1.39546315e-06  5.68237651e-06]\n",
      "   [-6.62509229e-05  1.00981783e-04 -5.09030859e-05]\n",
      "   [ 8.16277401e-05  1.89490198e-05  8.32175665e-05]]]\n",
      "\n",
      "\n",
      " [[[ 1.40788439e-04  7.74433990e-05 -1.45948657e-05]\n",
      "   [-2.26092882e-04 -1.23371607e-06  2.49535768e-05]\n",
      "   [-1.58773665e-04 -2.81299658e-04  7.68360948e-05]]\n",
      "\n",
      "  [[ 1.55654450e-04  6.38093337e-05  7.08382660e-05]\n",
      "   [-2.57317300e-06  1.17876682e-04  1.30836629e-04]\n",
      "   [ 3.47789831e-04 -6.62315164e-05  1.61207565e-04]]\n",
      "\n",
      "  [[-1.82818724e-05 -2.89938450e-04 -1.63419184e-04]\n",
      "   [-1.40174708e-04 -4.25406682e-04 -3.81668487e-04]\n",
      "   [-8.31023113e-05 -5.97457194e-05 -3.31913261e-04]]]\n",
      "\n",
      "\n",
      " [[[-4.54356202e-04  5.53247674e-04  8.45663692e-06]\n",
      "   [-3.63032618e-04 -8.33761163e-05  1.43091568e-04]\n",
      "   [-4.23805152e-04 -8.58809871e-04  1.24651085e-04]]\n",
      "\n",
      "  [[ 8.29530851e-05  4.56776864e-05  1.93911239e-05]\n",
      "   [ 3.95318863e-04  1.54673079e-04  3.54811554e-04]\n",
      "   [ 6.89345176e-04 -1.00737678e-04  3.47473345e-04]]\n",
      "\n",
      "  [[ 1.69771664e-04 -1.07337150e-03 -4.40676260e-04]\n",
      "   [-5.44083927e-04 -6.63756854e-04 -8.88923217e-04]\n",
      "   [-2.34079384e-04  2.18841617e-04 -7.98166911e-04]]]\n",
      "\n",
      "\n",
      " [[[-1.16903853e-03 -3.10694916e-05  5.40335515e-04]\n",
      "   [-1.32759534e-04  1.15863461e-04  7.45392385e-05]\n",
      "   [-7.83960516e-04 -1.27435579e-03  5.50103110e-05]]\n",
      "\n",
      "  [[ 7.08678545e-05 -3.79146783e-04 -9.78514660e-05]\n",
      "   [ 1.33109239e-03  7.22870284e-04  3.38408647e-04]\n",
      "   [ 3.39318521e-04 -3.80738945e-04  6.34460979e-04]]\n",
      "\n",
      "  [[ 4.88332908e-04 -1.48485317e-03 -1.35762819e-03]\n",
      "   [-7.63666141e-04 -1.17981687e-03 -9.24755504e-04]\n",
      "   [-3.84523114e-04  3.84568272e-04 -7.91381187e-04]]]\n",
      "\n",
      "\n",
      " [[[-1.60005151e-03 -4.21324464e-05  7.39310193e-04]\n",
      "   [-1.84403932e-04  1.66518236e-04  1.12784970e-04]\n",
      "   [-1.09197439e-03 -1.75753138e-03  6.98493246e-05]]\n",
      "\n",
      "  [[ 1.09484968e-04 -5.24773223e-04 -1.53026474e-04]\n",
      "   [ 1.81289479e-03  9.94287010e-04  4.72822695e-04]\n",
      "   [ 4.74293671e-04 -5.22755881e-04  8.62502949e-04]]\n",
      "\n",
      "  [[ 6.79404969e-04 -2.00245989e-03 -1.85042622e-03]\n",
      "   [-1.06142203e-03 -1.60913816e-03 -1.26381995e-03]\n",
      "   [-5.36402439e-04  5.23630967e-04 -1.09303564e-03]]]]\n",
      "Conv1_w error: 1.000000e+00\n",
      "Conv1_b error: 5.483871e-01\n",
      "[[ 0.00000000e+00  0.00000000e+00  0.00000000e+00 ...  0.00000000e+00\n",
      "   0.00000000e+00  0.00000000e+00]\n",
      " [-6.73062432e-06 -6.73062432e-06 -6.73062432e-06 ... -6.73062432e-06\n",
      "  -6.73062432e-06 -6.73062432e-06]\n",
      " [-6.73062432e-06 -6.73062432e-06 -6.73062432e-06 ... -6.73062432e-06\n",
      "  -6.73062432e-06 -6.73062432e-06]\n",
      " ...\n",
      " [-1.20037567e-05 -1.20037567e-05 -1.20037567e-05 ... -1.20037567e-05\n",
      "  -1.20037567e-05 -1.20037567e-05]\n",
      " [-1.30348339e-05 -1.30348339e-05 -1.30348339e-05 ... -1.30348339e-05\n",
      "  -1.30348339e-05 -1.30348339e-05]\n",
      " [-1.80846439e-05 -1.80846439e-05 -1.80846439e-05 ... -1.80846439e-05\n",
      "  -1.80846439e-05 -1.80846439e-05]]\n"
     ]
    }
   ],
   "source": [
    "model = net.ThreeLayerConvNet(\n",
    "    input_dim=(3,4,4), num_filters=8\n",
    ")\n",
    "X = np.random.randn(2, 3, 4, 4)\n",
    "y = np.random.randint(10, size=2)\n",
    "\n",
    "loss = model.loss(X, y)\n",
    "print(\"Testing ThreeLayerConvNet:\")\n",
    "print(\"loss:\", loss, \" (must be around 2.3)\")\n",
    "\n",
    "# it takes long..\n",
    "for module_name in model.modules.keys():\n",
    "    if not model.modules[module_name].params:\n",
    "        continue\n",
    "    w = model.modules[module_name].params[\"w\"]\n",
    "    b = model.modules[module_name].params[\"b\"]\n",
    "    dw = model.modules[module_name].grads[\"w\"]\n",
    "    db = model.modules[module_name].grads[\"b\"]\n",
    "    \n",
    "    f = lambda _: model.loss(X, y)\n",
    "    grad_w = eval_numerical_gradient(f, w, verbose=False, h=1e-5)\n",
    "    grad_b = eval_numerical_gradient(f, b, verbose=False, h=1e-5)\n",
    "    \n",
    "    print(\"{}_w error: {:e}\".format(module_name, rel_error(dw, grad_w)))\n",
    "    print(\"{}_b error: {:e}\".format(module_name, rel_error(db, grad_b)))"
   ]
  },
  {
   "cell_type": "code",
   "execution_count": null,
   "metadata": {},
   "outputs": [],
   "source": []
  }
 ],
 "metadata": {
  "kernelspec": {
   "display_name": "Python 3",
   "language": "python",
   "name": "python3"
  },
  "language_info": {
   "codemirror_mode": {
    "name": "ipython",
    "version": 3
   },
   "file_extension": ".py",
   "mimetype": "text/x-python",
   "name": "python",
   "nbconvert_exporter": "python",
   "pygments_lexer": "ipython3",
   "version": "3.6.6"
  }
 },
 "nbformat": 4,
 "nbformat_minor": 2
}
